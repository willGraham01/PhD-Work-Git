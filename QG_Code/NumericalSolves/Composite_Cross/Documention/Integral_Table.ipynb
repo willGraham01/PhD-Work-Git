{
 "cells": [
  {
   "cell_type": "markdown",
   "metadata": {},
   "source": [
    "# Integral Table\n",
    "\n",
    "Some useful integral formulae for me to refer back to when computing the various inner products I need in the numerical solves."
   ]
  },
  {
   "cell_type": "markdown",
   "metadata": {},
   "source": [
    "\\begin{align*}\n",
    "    \\int_a^b (y-a)\\mathrm{e}^{-2\\pi\\mathrm{i}\\beta y} \\ \\mathrm{d}y\n",
    "    &= \\left( 2\\pi\\mathrm{i}\\beta \\right)^{-1} \\left( (1+a-b)\\mathrm{e}^{-2\\pi\\mathrm{i}\\beta b} - \\mathrm{e}^{-2\\pi\\mathrm{i}\\beta a} \\right), \\\\\n",
    "    \\int_a^b (b-y)\\mathrm{e}^{-2\\pi\\mathrm{i}\\beta y} \\ \\mathrm{d}y\n",
    "    &= \\left( 2\\pi\\mathrm{i}\\beta \\right)^{-1} \\left( (1+b-a)\\mathrm{e}^{-2\\pi\\mathrm{i}\\beta a} - \\mathrm{e}^{-2\\pi\\mathrm{i}\\beta b} \\right),\n",
    "\\end{align*}"
   ]
  },
  {
   "cell_type": "markdown",
   "metadata": {},
   "source": [
    "\\begin{align*}\n",
    "    (b-a)^{-1}\\int_a^b (y-a)\\mathrm{e}^{-2\\pi\\mathrm{i}\\beta y} \\ \\mathrm{d}y\n",
    "    + (c-b)^{-1}\\int_b^c (c-y)\\mathrm{e}^{-2\\pi\\mathrm{i}\\beta y} \\ \\mathrm{d}y\n",
    "    &= \\frac{ (a-b)\\mathrm{e}^{-2\\pi\\mathrm{i}\\beta c} + (b-c)\\mathrm{e}^{-2\\pi\\mathrm{i}\\beta a} + (c-a)\\mathrm{e}^{-2\\pi\\mathrm{i}\\beta b} }{ 2\\pi\\mathrm{i}\\beta(b-a)(c-b) }\n",
    "\\end{align*}"
   ]
  }
 ],
 "metadata": {
  "kernelspec": {
   "display_name": "Python 3",
   "language": "python",
   "name": "python3"
  },
  "language_info": {
   "codemirror_mode": {
    "name": "ipython",
    "version": 3
   },
   "file_extension": ".py",
   "mimetype": "text/x-python",
   "name": "python",
   "nbconvert_exporter": "python",
   "pygments_lexer": "ipython3",
   "version": "3.7.8"
  }
 },
 "nbformat": 4,
 "nbformat_minor": 4
}
