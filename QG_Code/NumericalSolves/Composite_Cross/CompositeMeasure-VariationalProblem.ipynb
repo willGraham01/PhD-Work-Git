{
 "cells": [
  {
   "cell_type": "markdown",
   "id": "14ba19e1",
   "metadata": {},
   "source": [
    "# Composite Measure: Eigenvalues via a Variational Problem\n",
    "\n",
    "__The implimentation of this method is done for the Cross-In-Plane geometry__\n",
    "\n",
    "Let $\\Omega$ be our usual domain with singular inclusions represented by a graph $\\mathbb{G}$, let $\\theta$ be a fixed quasi-momentum value, and $\\tilde{\\lambda}$ be our composite measure $\\tilde{\\lambda} = \\lambda_2 + \\mu$.\n",
    "Consider the problem of determining $\\omega^2$ such that\n",
    "\n",
    "\\begin{align*}\n",
    "    \\omega^2 &= \\inf\\left\\{ \\int_{\\Omega} \\lvert \\nabla^{\\theta}v \\rvert^2 \\ \\mathrm{d}\\tilde{\\lambda}, \\ v\\in H^1_{\\theta}\\left(\\Omega, \\mathrm{d}\\tilde{\\lambda}\\right), \\ \\middle\\vert \\ \\lvert\\lvert v \\rvert\\rvert_{L^2(\\Omega, \\mathrm{d}\\tilde{\\lambda})} = 1, \\right\\}. \\tag{1}\n",
    "\\end{align*}\n",
    "\n",
    "Assuming that a minimiser $u$ of (1) exists, then we can show that it satisfies our bulk-PDEs/edge-ODEs system for the composite medium.\n",
    "Therefore, we will look to solve the variational problem (1), assuming a minimiser exists, and read off the values of $\\omega^2$.\n",
    "\n",
    "__NOTE__: For $\\theta=0$, the constant function $u=\\frac{1}{3}$ is the minimiser, giving $\\omega^2=0$."
   ]
  },
  {
   "cell_type": "markdown",
   "id": "17cfe497",
   "metadata": {},
   "source": [
    "## Constrained Minimisation Problem\n",
    "\n",
    "We will focus on our Cross-In-The-Plane geometry again, but move the single vertex $v_0$ in the peroid cell to the corner at $(0,0)$.\n",
    "This leaves us with one horizontal edge $I_h$ on which $y=0$, and one vertical edge $I_v$ on which $x=0$; the two edges are loops from $v_0$ to itself.\n",
    "\n",
    "Once again we need to choose a basis to truncate and approximate the minimising function in.\n",
    "We will avoid the use of a Fourier basis, as this will force our normal derivatives along the graph edges to coincide, which is _not_ required for solutions to (1), nor indeed functions that belong to $H^1_{\\theta}\\left(\\Omega, \\mathrm{d}\\tilde{\\lambda}\\right)$.\n",
    "Instead, take $M\\in\\mathbb{N}$ and use the 2D-polynomial basis $\\{\\phi_m\\}_{m=0}^{M^2-1}$ where\n",
    "\n",
    "\\begin{align*}\n",
    "    \\phi_m(x,y) &= p_m x^{i_m}y^{j_m}, &\\qquad\\text{where } m = j_m + Mi_m, \\ i,j\\in\\{0,...,M-1\\}, \\\\\n",
    "    p_m &= \\sqrt{ \\frac{(2i_m+1)(2j_m+1)}{2i_m + 2j_m +3} },\n",
    "\\end{align*}\n",
    "\n",
    "the normalisation constants $p_m$ ensuring that $\\lvert\\lvert \\phi_m \\rvert\\rvert_{L^2(\\Omega, \\mathrm{d}\\tilde{\\lambda})} = 1$.\n",
    "We also choose this notation so that, when we come to impliment this method, we can easily switch between a matrix and column-vector representation for this basis.\n",
    "\n",
    "__NOTE__: The polynomial basis is _not_ automatically periodic, so we will need to add constraints to our variational problem to ensure that we still represent functions in $H^1_{\\theta}\\left(\\Omega, \\mathrm{d}\\tilde{\\lambda}\\right)$.\n",
    "\n",
    "Thus, we seek the solution of the problem\n",
    "\n",
    "\\begin{align*}\n",
    "    \\text{Minimise} \\quad & \\quad \\int_{\\Omega} \\lvert \\nabla^{\\theta}u \\rvert^2 \\ \\mathrm{d}\\tilde{\\lambda}, \\\\\n",
    "    \\text{Subject to} \\quad & \\lvert\\lvert u \\rvert\\rvert_{L^2(\\Omega, \\mathrm{d}\\tilde{\\lambda})} = 1, \\\\\n",
    "    & \\quad u(0,y) = u(1,y), \\\\\n",
    "    & \\quad u(x,0) = u(x,1).\n",
    "\\end{align*}\n",
    "\n",
    "If we want to go a step further and find $\\omega_n^2, u_n$ pairs such that\n",
    "\n",
    "\\begin{align*}\n",
    "        \\omega_n^2 &= \\min\\left\\{ \\int_{\\Omega} \\lvert \\nabla^{\\theta}u \\rvert^2 \\ \\mathrm{d}\\tilde{\\lambda}, \\ u\\in H^1_{\\theta}\\left(\\Omega, \\mathrm{d}\\tilde{\\lambda}\\right), \\ \\middle\\vert \\ \\lvert\\lvert u \\rvert\\rvert_{L^2(\\Omega, \\mathrm{d}\\tilde{\\lambda})} = 1, \\ u_n \\perp u_l, \\ 1\\leq l<n, \\right\\}, \\tag{2}\n",
    "\\end{align*}\n",
    "given the $n-1$ previous solutions $\\omega_l^2, u_l$ for $1\\leq l<n$, we also need to add the orthogonality conditions into our constrained minimisation problem."
   ]
  },
  {
   "cell_type": "markdown",
   "id": "742a6a3a",
   "metadata": {},
   "source": [
    "### Problem to Study\n",
    "\n",
    "With this in mind, this notebook aims to determine the solution $u_n\\in H^1_{\\theta}\\left(\\Omega, \\mathrm{d}\\tilde{\\lambda}\\right)$ to the problem:\n",
    "\n",
    "\\begin{align*}\n",
    "    \\text{Minimise} \\quad & \\quad J[u] := \\int_{\\Omega} \\lvert \\nabla^{\\theta}u \\rvert^2 \\ \\mathrm{d}\\tilde{\\lambda}, \\\\\n",
    "    \\text{Subject to} \\quad & \\lvert\\lvert u \\rvert\\rvert_{L^2(\\Omega, \\mathrm{d}\\tilde{\\lambda})} = 1, \\\\\n",
    "    & \\quad u(0,y) = u(1,y), \\\\\n",
    "    & \\quad u(x,0) = u(x,1), \\\\\n",
    "    & \\quad u \\perp u_l, \\ 1\\leq l<n, \\tag{3}\n",
    "\\end{align*}\n",
    "where $\\omega_n^2 := J[u_n]$, and $u_l$ is the solution to (3) with $n=l$.\n",
    "When $n=1$, we have no orthogonality constraints.\n",
    "Perpendicular means perpendicular in the $L^2(\\Omega, \\mathrm{d}\\tilde{\\lambda})$-sense."
   ]
  },
  {
   "cell_type": "markdown",
   "id": "66a40975",
   "metadata": {},
   "source": [
    "## Numerical Solution: Setup\n",
    "\n",
    "Recall the 2D-polynomial basis $\\{\\phi_m\\}_{m=0}^{M^2-1}$ where\n",
    "\n",
    "\\begin{align*}\n",
    "    \\phi_m(x,y) &= p_m x^{i_m}y^{j_m}, &\\qquad\\text{where } m = j_m + Mi_m, \\ i,j\\in\\{0,...,M-1\\}, \\\\\n",
    "    p_m &= \\sqrt{ \\frac{(2i_m+1)(2j_m+1)}{2i_m + 2j_m +3} },\n",
    "\\end{align*}\n",
    "\n",
    "introduced in the previous section.\n",
    "We elect to represent the solution $u_n$ to (3) as\n",
    "\n",
    "\\begin{align*}\n",
    "    u_n(x,y) &= \\sum_{m=0}^{M^2-1} u_m\\phi_m(x,y), \\qquad u_m\\in\\mathbb{C}.\n",
    "\\end{align*}"
   ]
  }
 ],
 "metadata": {
  "kernelspec": {
   "display_name": "Python 3",
   "language": "python",
   "name": "python3"
  },
  "language_info": {
   "codemirror_mode": {
    "name": "ipython",
    "version": 3
   },
   "file_extension": ".py",
   "mimetype": "text/x-python",
   "name": "python",
   "nbconvert_exporter": "python",
   "pygments_lexer": "ipython3",
   "version": "3.7.12"
  }
 },
 "nbformat": 4,
 "nbformat_minor": 5
}
