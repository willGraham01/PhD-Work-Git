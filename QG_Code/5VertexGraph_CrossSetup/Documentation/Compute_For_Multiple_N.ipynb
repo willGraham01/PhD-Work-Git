{
 "cells": [
  {
   "cell_type": "markdown",
   "metadata": {},
   "source": [
    "## Computing Eigenvalues for Multiple Values of $N$ in One Run\n",
    "\n",
    "This script simply allows us to edit the value of $N$ which defines the number of unit cells that are meshed in `FEM_CrossGraphSetup.geo`.\n",
    "The plan is to pass in a sequence of integers from the command line to a script akin to the commands in this document, and have the script edit the `.geo` file directly, using each integer passed as one value of $N$.\n",
    "\n",
    "This will allow us to assemble eigenvalue files for multiple values of $N$, and the naming conventions will automatically be taken care of."
   ]
  },
  {
   "cell_type": "code",
   "execution_count": 5,
   "metadata": {},
   "outputs": [],
   "source": [
    "# We will be relying on a sequence of ints being passed to this script from the command line,\n",
    "# but this can't be emulated in a Jupyter Notebook.\n",
    "# So instead, we work with the variable sysArgs - a proxy for sys.argv - and manually define it for testing purposes\n",
    "\n",
    "import subprocess\n",
    "\n",
    "sysArgs = ['3', '4'] #proxy variable\n",
    "\n",
    "# This is the name of our mesh files, minus the extension.\n",
    "filePrefix = 'FEM_CrossGraphSetup'\n",
    "# This is the gmsh file which generated our domain's mesh. We can infer information about our domain from it\n",
    "gmshFile = filePrefix + '.geo'\n",
    "# This is the folder into which we will place our stiffness matrices, once they are assembled\n",
    "matDumpFolder = 'StiffnessMatrixDump'\n",
    "evalDumpFolder = 'EvalDump'"
   ]
  },
  {
   "cell_type": "code",
   "execution_count": 6,
   "metadata": {},
   "outputs": [
    {
     "name": "stdout",
     "output_type": "stream",
     "text": [
      "Working on N=3\n",
      "Working on N=4\n"
     ]
    }
   ],
   "source": [
    "# For each given input argument, interpret it as an int if possible (error if otherwise),\n",
    "# then edit the value of N as defined in `FEM_CrossGraphSetup.geo`, line 12 (index 11 when file read in).\n",
    "# After doing this, go through the process of computing the eigenvalues (and saving them) as per the shell script\n",
    "# FEM_CrossGraphSolve.sh\n",
    "for arg in sysArgs:\n",
    "    # first, we attempt to interpret the input arguments as ints\n",
    "    try:\n",
    "        N = int(arg)\n",
    "        Nstr = str(arg)\n",
    "        print('Working on N=%d' % (N))\n",
    "    except ValueError:\n",
    "        # this probably means that a float was passed in as one value of N.\n",
    "        # print this to the user, but then continue on to the other input values.\n",
    "        print('%s is invalid for conversion to int' % (arg))\n",
    "        continue\n",
    "        \n",
    "    # we now know the value of N to edit into the mesh file, so write it\n",
    "    with open(gmshFile, 'r') as file:\n",
    "        # read a list of lines into data\n",
    "        data = file.readlines()\n",
    "    # now change the 12th line where the definition of N appears\n",
    "    # note the newline character needs to be appended here\n",
    "    data[11] = 'N = ' + Nstr + ';\\n'\n",
    "    # and finally write everything back to the file\n",
    "    with open(gmshFile, 'w') as file:\n",
    "        file.writelines(data)\n",
    "    \n",
    "    # Having now edited the value of N in the gmsh file, we can call the shell script to compute the eigenvalues\n",
    "    # NOTE: When this file is moved to the documentation folder, this path may need to change\n",
    "    subprocess.call(['sh', './FEM_CrossGraphSolve.sh'])\n",
    "print('Done')"
   ]
  },
  {
   "cell_type": "code",
   "execution_count": null,
   "metadata": {},
   "outputs": [],
   "source": []
  }
 ],
 "metadata": {
  "kernelspec": {
   "display_name": "Python 3",
   "language": "python",
   "name": "python3"
  },
  "language_info": {
   "codemirror_mode": {
    "name": "ipython",
    "version": 3
   },
   "file_extension": ".py",
   "mimetype": "text/x-python",
   "name": "python",
   "nbconvert_exporter": "python",
   "pygments_lexer": "ipython3",
   "version": "3.6.6"
  }
 },
 "nbformat": 4,
 "nbformat_minor": 2
}
