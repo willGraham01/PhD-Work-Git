{
 "cells": [
  {
   "cell_type": "markdown",
   "metadata": {},
   "source": [
    "## Get Eigenvalues Script\n",
    "\n",
    "Having assembled the stiffness matrices $A_1$ and $A_2$ representing the integrals $\\int \\nabla u\\cdot\\nabla\\phi \\ \\mathrm{d}x$ and $\\int u\\phi \\ \\mathrm{d}x$ respectively, we now need to compute the eigenvalues $\\omega^2$ and eigenvectors $u$ such that\n",
    "$$ \\left( A_1 - \\omega^2 A_2 \\right)u = 0. $$\n",
    "**NOTE:** As per `AssembleStiffnessMatrices.py`, the prefactor $-\\omega^2$ is not included in $A_2$, so that we can solve the above as a generalised eigenvalue problem using SciPy.\n",
    "\n",
    "When the equivalent script is run via the command line, the argument to be passed from the command line should be the proportion of eigenvalues to compute, equivalent to the variable `evalFrac` which is manually defined in this notebook.\n",
    "\n",
    "### Requirements:\n",
    "- The fenicsproject environment be active\n",
    "- The stiffness matrices are stored in the subdirectory `./StiffnessMatrixDump/`, under the naming convention `a?_N*.npz` where `?` is either `1` or `2`, and `*` is the value of $N$ as found in the `.geo` file which generates the mesh domain. \n",
    "- A folder `./EvalDump/` exists to store the computed eigenvalues and eigenvectors in\n",
    "\n",
    "### Outputs:\n",
    "Outputs are placed in the `./EvalDump/` subdirectory.\n",
    "- File `evals-N*-?` where `*` is replaced by the value of $N$ for the current domain (inferred from files), and `?` is replaced by the number of eigenvalues stored. This is a list of all the eigenvalues $\\omega>0$ that were found.\n",
    "- File `evecs-N*-?` where `*` is replaced by the value of $N$ for the current domain, and `?` is replaced by the number of eigenvectors stored. This is a list of all the corresponding eigenvectors $u$ that were found, each vector being stored as one column."
   ]
  },
  {
   "cell_type": "code",
   "execution_count": 1,
   "metadata": {},
   "outputs": [],
   "source": [
    "from fenics import *\n",
    "from dolfin import *\n",
    "import matplotlib.pyplot as plt\n",
    "import scipy.sparse as spSparse\n",
    "import scipy.sparse.linalg as spla\n",
    "import numpy as np"
   ]
  },
  {
   "cell_type": "code",
   "execution_count": 2,
   "metadata": {},
   "outputs": [],
   "source": [
    "# This is the name of our mesh files, minus the extension.\n",
    "filePrefix = 'FEM_CrossGraphSetup'\n",
    "# This is the gmsh file which generated our domain's mesh. We can infer information about our domain from it\n",
    "gmshFile = filePrefix + '.geo'\n",
    "# This is the folder into which we will place our stiffness matrices, once they are assembled\n",
    "matDumpFolder = 'StiffnessMatrixDump'\n",
    "evalDumpFolder = 'EvalDump'\n",
    "\n",
    "# Deduce value of N from gmshFile - it appears on line 12,\n",
    "# with the 5th character being (the start of) the value of N.\n",
    "with open('FEM_CrossGraphSetup.geo') as fp:\n",
    "    for i, line in enumerate(fp):\n",
    "        if i == 11:\n",
    "            # 11th line\n",
    "            Nstr = line[4:-2] #take all characters after the numerical value appears in the file\n",
    "        elif i > 11:\n",
    "            #terminate loop early\n",
    "            break\n",
    "# We want N as a float because we will use it in computations, to define points on meshes etc. Int might cause bugs.\n",
    "for i, char in enumerate(Nstr):\n",
    "    if char==';':\n",
    "        Nstr = Nstr[:i]\n",
    "        break\n",
    "N = float(Nstr)\n",
    "\n",
    "# Infer filenames via naming convention\n",
    "fA1 = './' + matDumpFolder + '/a1_N' + Nstr + '.npz'\n",
    "fA2 = './' + matDumpFolder + '/a2_N' + Nstr + '.npz'\n",
    "# Create filename to save evals to\n",
    "evalFile = './' + evalDumpFolder + './evals-N' + Nstr"
   ]
  },
  {
   "cell_type": "code",
   "execution_count": 3,
   "metadata": {},
   "outputs": [],
   "source": [
    "# create a subclass for the 2D-periodic domain...\n",
    "class PeriodicDomain(SubDomain):\n",
    "    #map left--> right and bottom-->top\n",
    "\n",
    "    def inside(self, x, on_boundary):\n",
    "        # return True if on left or bottom boundary AND NOT on one of the two corners\n",
    "        return bool((near(x[0], 0) or near(x[1], 0)) and\n",
    "                (not ((near(x[0], 0) and near(x[1], N)) or\n",
    "                        (near(x[0], N) and near(x[1], 0)))) and on_boundary)\n",
    "\n",
    "    def map(self, x, y):\n",
    "        if near(x[0], N) and near(x[1], N):\n",
    "            y[0] = x[0] - N\n",
    "            y[1] = x[1] - N\n",
    "        elif near(x[0], N):\n",
    "            y[0] = x[0] - N\n",
    "            y[1] = x[1]\n",
    "        else:   # near(x[1], N)\n",
    "            y[0] = x[0]\n",
    "            y[1] = x[1] - N\n",
    "#concludes the SubDomain subclass definition\n",
    "\n",
    "# Now we import our mesh...\n",
    "meshFile = filePrefix + '.xml'\n",
    "mesh = Mesh(meshFile)"
   ]
  },
  {
   "cell_type": "code",
   "execution_count": 4,
   "metadata": {},
   "outputs": [
    {
     "name": "stdout",
     "output_type": "stream",
     "text": [
      "Loading stiffness matrices.\n"
     ]
    }
   ],
   "source": [
    "# Read matrices we want in CSR format\n",
    "print('Loading stiffness matrices.')\n",
    "A1 = spSparse.load_npz(fA1)\n",
    "A2 = spSparse.load_npz(fA2)\n",
    "\n",
    "# Check that matrices are of the same shape, and are square\n",
    "if A1.shape != A2.shape:\n",
    "    raise ValueError('Stiffness matrices have different shapes')\n",
    "elif A1.shape[0] != A1.shape[1]:\n",
    "    raise ValueError('Stiffness matrices are non-square')\n",
    "else:\n",
    "    nNodes = A1.shape[0] \n",
    "# the size of the stiffness matrices corresponds to the number of nodes in our mesh,\n",
    "# and hence the maximum number of eigenvalues that we can find.\n",
    "\n",
    "# Could also check sparsity patterns...\n",
    "#plt.spy(A1)\n",
    "#plt.show()\n",
    "#plt.spy(A2)\n",
    "#plt.show()"
   ]
  },
  {
   "cell_type": "code",
   "execution_count": 5,
   "metadata": {},
   "outputs": [
    {
     "name": "stdout",
     "output_type": "stream",
     "text": [
      "Computing 72 eigenvalues closest to 0\n"
     ]
    }
   ],
   "source": [
    "# We now need to find the eigenvalues at the bottom of the spectrum.\n",
    "# To do so, we use Scipy.sparse.linalg's generalised eigenvalue solver,\n",
    "# https://docs.scipy.org/doc/scipy/reference/generated/scipy.sparse.linalg.eigsh.html\n",
    "# We can do this since A1 and A2 should both be symmetric for our problem (we have an elliptic operator).\n",
    "# They might even be better behaved, but I don't think we need that here.\n",
    "\n",
    "# First, we can never find *all* the eigenvalues, and it would be super inefficient to try to do that too.\n",
    "# So let's just try to compute a fraction of them.\n",
    "evalFrac = 0.1\n",
    "evalsToCompute = int(np.ceil(nNodes * evalFrac))\n",
    "# We want to compute at most evalFrac (as a percentage) eigenvalues out of nNodes\n",
    "print('Computing %d eigenvalues closest to 0' % (evalsToCompute))\n",
    "\n",
    "# Solves A1 * x = lambda * A2 * x for an eigenpair (lambda, x).\n",
    "# Eigenvectors are stored column-wise, so x[:,i] is the eigenvector of lambda[i].\n",
    "# Also, we use lambda = omega^2 here.\n",
    "lambdaVals, wVecs = spla.eigsh(A1, k = evalsToCompute, M=A2, sigma = 0.0, which='LM', return_eigenvectors = True)"
   ]
  },
  {
   "cell_type": "code",
   "execution_count": 6,
   "metadata": {},
   "outputs": [
    {
     "name": "stdout",
     "output_type": "stream",
     "text": [
      "No negative eigenvalues found.\n",
      "Saved to output files ./EvalDump/evals-N3-72 (evals) and ./EvalDump/evecs-N3-72 (evecs)\n"
     ]
    }
   ],
   "source": [
    "# Check if any \"eigenvalues\" that were computed were below 0, and deal with them accordingly\n",
    "nNegEvals = len(lambdaVals[lambdaVals<0])\n",
    "if nNegEvals>0:\n",
    "    print('Found %d negative eigenvalues, the largest of which is: %.5e - these are being removed.' \\\n",
    "          % (nNegEvals, np.min(lambdaVals[lambdaVals<0])) )\n",
    "else:\n",
    "    print('No negative eigenvalues found.')\n",
    "    \n",
    "# For safety, we should really discard these \"negative\" eigenvalues\n",
    "wVecs = wVecs[:, lambdaVals>=0]\n",
    "lambdaVals = lambdaVals[lambdaVals>=0]\n",
    "\n",
    "# Now we can save the legitimate eigenvalues (taking the square-root too to obtain omegas)\n",
    "# And can also save their eigenvectors\n",
    "evalSaveStr = './' + evalDumpFolder + '/evals-N' + Nstr + '-' + str(int(evalsToCompute - nNegEvals))\n",
    "evecSaveStr = './' + evalDumpFolder + '/evecs-N' + Nstr + '-' + str(int(evalsToCompute - nNegEvals))\n",
    "\n",
    "wVals = np.sqrt(lambdaVals) #since we've removed the <0 values, sqrt is safe\n",
    "# Save (omega, u) pairs to output folder\n",
    "np.save(evalSaveStr, wVals)\n",
    "np.save(evecSaveStr, wVecs)\n",
    "print('Saved to output files %s (evals) and %s (evecs)' % (evalSaveStr, evecSaveStr))"
   ]
  },
  {
   "cell_type": "code",
   "execution_count": 9,
   "metadata": {
    "scrolled": false
   },
   "outputs": [
    {
     "name": "stdout",
     "output_type": "stream",
     "text": [
      "Proceed with plots? (0/1):0\n"
     ]
    }
   ],
   "source": [
    "# This is here for reference when creating plots, it won't be executed by \"running all\" by default.\n",
    "if 0==1:\n",
    "    # To plot functions, we need to know the function space we are working with, which we obtain from the mesh\n",
    "    # Although the data for the eigenvectors is stored in wVecs, in order to correctly plot it and assign values at\n",
    "    # each node in the mesh, we need the topographical data from the mesh and the function space we are using\n",
    "    V = FunctionSpace(mesh, 'CG', 1, constrained_domain=PeriodicDomain())\n",
    "\n",
    "    # We can now plot each of the eigenfunctions that we found, and display it's corresponding eigenvalue\n",
    "    for i, w in enumerate(wVals):\n",
    "        # Assemble solution from eigenvector that was found\n",
    "        u = Function(V)\n",
    "        u.vector()[:] = wVecs[:,i] #insert data from wVecs into function-space object\n",
    "        # Plot solution...\n",
    "        p = plot(u)\n",
    "        p.set_cmap(\"viridis\")\n",
    "        plt.colorbar(p)\n",
    "        plt.xlabel('$x$')\n",
    "        plt.ylabel('$y$')\n",
    "        plt.title('$ \\omega= %.5e $' % (wVals[i]))\n",
    "        plt.show()\n",
    "\n",
    "#plt.savefig(\"PrettyPicture.png\") #saves a blank screen for some reason - yeah, because .show() clears everything!"
   ]
  }
 ],
 "metadata": {
  "kernelspec": {
   "display_name": "Python 3",
   "language": "python",
   "name": "python3"
  },
  "language_info": {
   "codemirror_mode": {
    "name": "ipython",
    "version": 3
   },
   "file_extension": ".py",
   "mimetype": "text/x-python",
   "name": "python",
   "nbconvert_exporter": "python",
   "pygments_lexer": "ipython3",
   "version": "3.6.6"
  }
 },
 "nbformat": 4,
 "nbformat_minor": 2
}
