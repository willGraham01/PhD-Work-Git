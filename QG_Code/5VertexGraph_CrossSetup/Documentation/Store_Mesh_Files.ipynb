{
 "cells": [
  {
   "cell_type": "markdown",
   "metadata": {},
   "source": [
    "## Store Mesh Files\n",
    "\n",
    "During the various runs, we will create several mesh files.\n",
    "We will need to preserve these when we later want to plot the eigenfunctions that we have found, and so we should create a copy of each mesh before \"cleanup\" occurs in `./FEM_CrossGraphSolve.sh` and the meshes are removed.\n",
    "\n",
    "We move the most recently created mesh file to the folder `MeshDump` and use a familiar naming convention of `Mesh-N*.xml` where `*` is replaced by the value of $N$ being used in the `.geo` file passed to gmsh.\n",
    "**NOTE:** We don't check to see whether such a mesh file is already saved, and this is in case we update our `.geo` file later and thus create meshes with different simplexes - we want the records of these meshes to always change with these mesh changes."
   ]
  },
  {
   "cell_type": "code",
   "execution_count": null,
   "metadata": {},
   "outputs": [],
   "source": [
    "from shutil import copyfile\n",
    "\n",
    "def DeduceN(gFile, line=11):\n",
    "    '''\n",
    "    Deduce value of N from the .geo file gFile.\n",
    "    Optionally, provide the index of the line where this definition appears, \n",
    "    default search will be on line 12 (index 11) as per the established convention.\n",
    "    '''\n",
    "    with open('FEM_CrossGraphSetup.geo') as fp:\n",
    "        for i, line in enumerate(fp):\n",
    "            if i == 11:\n",
    "                # 11th line\n",
    "                Nstr = line[4:-2] #take all characters after the numerical value appears in the file\n",
    "            elif i > 11:\n",
    "                #terminate loop early\n",
    "                break\n",
    "    # We want N as a float because we will use it in computations, to define points on meshes etc. \n",
    "    # Int might cause bugs.\n",
    "    for i, char in enumerate(Nstr):\n",
    "        if char==';':\n",
    "            Nstr = Nstr[:i]\n",
    "            break\n",
    "    N = float(Nstr)\n",
    "    return N, Nstr"
   ]
  },
  {
   "cell_type": "code",
   "execution_count": 1,
   "metadata": {},
   "outputs": [],
   "source": [
    "# This is the name of our mesh files, minus the extension.\n",
    "filePrefix = 'FEM_CrossGraphSetup'\n",
    "# This is the gmsh file which generated our domain's mesh. We can infer information about our domain from it\n",
    "gmshFile = filePrefix + '.geo'\n",
    "meshFolder = 'MeshDump'\n",
    "meshCreated = filePrefix + '.xml'\n",
    "\n",
    "Nstr = DeduceN(gmshFile)[1]\n",
    "meshSave = './' + meshFolder + '/Mesh-N' + Nstr + '.xml'\n",
    "\n",
    "copyfile(meshCreated, meshSave)"
   ]
  }
 ],
 "metadata": {
  "kernelspec": {
   "display_name": "Python 3",
   "language": "python",
   "name": "python3"
  },
  "language_info": {
   "codemirror_mode": {
    "name": "ipython",
    "version": 3
   },
   "file_extension": ".py",
   "mimetype": "text/x-python",
   "name": "python",
   "nbconvert_exporter": "python",
   "pygments_lexer": "ipython3",
   "version": "3.6.6"
  }
 },
 "nbformat": 4,
 "nbformat_minor": 2
}
