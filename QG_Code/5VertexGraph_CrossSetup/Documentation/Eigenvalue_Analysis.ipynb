{
 "cells": [
  {
   "cell_type": "markdown",
   "metadata": {},
   "source": [
    "## Eigenvalue/eigenfunction Analysis\n",
    "\n",
    "We have computed (an approximation to) the eigenvalues and eigenfunctions of\n",
    "$$ \\int_{\\Omega} \\nabla u \\cdot \\nabla \\phi - u\\phi \\ \\mathrm{d}x = 0,$$\n",
    "which are saved to `.npz` files. \n",
    "We now want to read in these eigenvalues and eigenvectors to examine the behaviour of the \"right-most\" eigenvalue/function in the first band of the spectrum.\n",
    "\n",
    "This notebook contains a record of the necessary programs and methods for extracting eigenvalues from the file stores, inferring the values of $N$ and the number of eigenvalues computed, and plotting the stored solutions via `matplotlib`.\n",
    "\n",
    "### Requirements:\n",
    "- fenicsproject environment is active\n",
    "- Eigenvalues and eigenvectors are saved to files in the directory `./EvalDump/`.\n",
    "\n",
    "### Outputs:\n",
    "NB: Finding the \"right-most\" eigenvalue of the first band is difficult, for reasons that can be seen when plotting the distribution of eigenvalues.\n",
    "- Function plot of the \"left-most\" eigenvalue's eigenfunction\n",
    "- Histogram displaying the distribution of found eigenvalues"
   ]
  },
  {
   "cell_type": "code",
   "execution_count": 1,
   "metadata": {},
   "outputs": [],
   "source": [
    "from fenics import *\n",
    "from dolfin import *\n",
    "\n",
    "import numpy as np\n",
    "\n",
    "import scipy.sparse as spSparse\n",
    "import scipy.sparse.linalg as spla\n",
    "\n",
    "import matplotlib.pyplot as plt\n",
    "from matplotlib import rc\n",
    "rc('text', usetex=True)\n",
    "\n",
    "%matplotlib inline\n",
    "\n",
    "import glob"
   ]
  },
  {
   "cell_type": "code",
   "execution_count": 2,
   "metadata": {},
   "outputs": [],
   "source": [
    "# This is the name of our mesh files, minus the extension.\n",
    "filePrefix = 'FEM_CrossGraphSetup'\n",
    "# This is the gmsh file which generated our domain's mesh. We can infer information about our domain from it\n",
    "gmshFile = filePrefix + '.geo'\n",
    "# This is the folder into which we will place our stiffness matrices, once they are assembled\n",
    "matDumpFolder = 'StiffnessMatrixDump'\n",
    "evalDumpFolder = 'EvalDump'\n",
    "\n",
    "# Deduce value of N from gmshFile - it appears on line 12,\n",
    "# with the 5th character being (the start of) the value of N.\n",
    "with open('FEM_CrossGraphSetup.geo') as fp:\n",
    "    for i, line in enumerate(fp):\n",
    "        if i == 11:\n",
    "            # 11th line\n",
    "            Nstr = line[4:-2] #take all characters after the numerical value appears in the file\n",
    "        elif i > 11:\n",
    "            #terminate loop early\n",
    "            break\n",
    "# We want N as a float because we will use it in computations, to define points on meshes etc. Int might cause bugs.\n",
    "for i, char in enumerate(Nstr):\n",
    "    if char==';':\n",
    "        Nstr = Nstr[:i]\n",
    "        break\n",
    "N = float(Nstr)"
   ]
  },
  {
   "cell_type": "code",
   "execution_count": 3,
   "metadata": {},
   "outputs": [],
   "source": [
    "# Create a subclass for the 2D-periodic domain...\n",
    "class PeriodicDomain(SubDomain):\n",
    "    #map left--> right and bottom-->top\n",
    "\n",
    "    def inside(self, x, on_boundary):\n",
    "        # return True if on left or bottom boundary AND NOT on one of the two corners\n",
    "        return bool((near(x[0], 0) or near(x[1], 0)) and\n",
    "                (not ((near(x[0], 0) and near(x[1], N)) or\n",
    "                        (near(x[0], N) and near(x[1], 0)))) and on_boundary)\n",
    "\n",
    "    def map(self, x, y):\n",
    "        if near(x[0], N) and near(x[1], N):\n",
    "            y[0] = x[0] - N\n",
    "            y[1] = x[1] - N\n",
    "        elif near(x[0], N):\n",
    "            y[0] = x[0] - N\n",
    "            y[1] = x[1]\n",
    "        else:   # near(x[1], N)\n",
    "            y[0] = x[0]\n",
    "            y[1] = x[1] - N\n",
    "#concludes the SubDomain subclass definition\n",
    "\n",
    "# Now we import our mesh...\n",
    "meshFile = filePrefix + '.xml'\n",
    "mesh = Mesh(meshFile)\n",
    "\n",
    "# To plot functions, we need to know the function space we are working with, which we obtain from the mesh\n",
    "# Although the data for the eigenvectors is stored in wVecs, in order to correctly plot it and assign values at\n",
    "# each node in the mesh, we need the topographical data from the mesh and the function space we are using\n",
    "V = FunctionSpace(mesh, 'CG', 1, constrained_domain=PeriodicDomain())"
   ]
  },
  {
   "cell_type": "code",
   "execution_count": 4,
   "metadata": {},
   "outputs": [
    {
     "name": "stdout",
     "output_type": "stream",
     "text": [
      "Loading files ./EvalDump/evals-N3-143.npy (evals) and ./EvalDump/evecs-N3-143.npy (evecs) for N=3\n"
     ]
    }
   ],
   "source": [
    "# Infer filenames via naming convention\n",
    "fA1 = './' + matDumpFolder + '/a1_N' + Nstr + '.npz'\n",
    "fA2 = './' + matDumpFolder + '/a2_N' + Nstr + '.npz'\n",
    "# Infer filenames storing evals and evecs\n",
    "# These files also have a further number after them, encoding the number of e'vals and e'vecs they store,\n",
    "# so we need to infer this too before we can load the files.\n",
    "preAppend = './' + evalDumpFolder + '/evals-N' + Nstr\n",
    "evalFileMatches = glob.glob(preAppend + '*.npy')\n",
    "# This is a list of all the candidate files, which we have generated that contain eigenvalues and eigenvectors\n",
    "# Each element is a string containing a path to a file, of the form\n",
    "# preAppend + '-xxx.npy',\n",
    "# where xxx is an int which matches the number of eigenvalues stored in the file.\n",
    "# We will extract the largest of these values, and open the files which contain the most eigenvalues and\n",
    "# eigenvectors.\n",
    "if len(evalFileMatches)==1:\n",
    "    # Precisely one file matches, this must be the file we need\n",
    "    # Now extract the number 'xxx' from the filename via slicing...\n",
    "    nVals = int(evalFileMatches[0][len(preAppend)+1:-4])\n",
    "elif not evalFileMatches:\n",
    "    # An empty list, by default, evaluates to false in bool operations.\n",
    "    # If we get to here, we didn't find any stored eigenvalues, so raise an error\n",
    "    raise OSError('No eigenvalue files found for N=%d, using search string %s' % (N, preAppend+'*.npy'))\n",
    "else:\n",
    "    # Multiple matching files, we now search for the one with the largest number of eigenvalues stored in it\n",
    "    maxInd = 0\n",
    "    nVals = 0\n",
    "    for i,fname in enumerate(evalFileMatches):\n",
    "        n = int(fname[len(preAppend)+1:-4])\n",
    "        if n > nVals:\n",
    "            # This file contains more eigenvalues than our current maximum\n",
    "            maxInd = i\n",
    "            nVals = n\n",
    "# nVals now contains the (largest) number of eigenvalues stored for this value of N,\n",
    "# we can now load the eval and evec files.\n",
    "eValsF = preAppend + '-' + str(nVals) + '.npy'\n",
    "eVecsF = './' + evalDumpFolder + '/evecs-N' + Nstr + '-' + str(nVals) + '.npy'\n",
    "print('Loading files %s (evals) and %s (evecs) for N=%d' % (eValsF, eVecsF, N))\n",
    "\n",
    "wVals = np.load(eValsF)\n",
    "wVecs = np.load(eVecsF)"
   ]
  },
  {
   "cell_type": "markdown",
   "metadata": {},
   "source": [
    "Running the cells above results in us importing the eigenvalues and eigenvectors for the current value of $N$, as deduced from the `.geo` file (see `Assemble_Stiffness_Matrices` documentation for details).\n",
    "\n",
    "Now, we can create plots and examine the available information from these values and vectors."
   ]
  },
  {
   "cell_type": "code",
   "execution_count": 5,
   "metadata": {},
   "outputs": [
    {
     "name": "stderr",
     "output_type": "stream",
     "text": [
      "/home/will/anaconda3/envs/fenicsproject/lib/python3.6/site-packages/matplotlib/figure.py:457: UserWarning: matplotlib is currently using a non-GUI backend, so cannot show the figure\n",
      "  \"matplotlib is currently using a non-GUI backend, \"\n"
     ]
    },
    {
     "data": {
      "image/png": "[encoded data removed]",
      "text/plain": [
       "<Figure size 432x288 with 1 Axes>"
      ]
     },
     "metadata": {},
     "output_type": "display_data"
    },
    {
     "data": {
      "image/png": "[encoded data removed]",
      "text/plain": [
       "<Figure size 432x288 with 1 Axes>"
      ]
     },
     "metadata": {},
     "output_type": "display_data"
    }
   ],
   "source": [
    "def FigWindowSettings(axis):\n",
    "    '''\n",
    "    Changes a matplotlib.pyplot axis object to have no top and right border or tick marks.\n",
    "    INPUTS:\n",
    "        axis: matplotlib.pyplot axis object\n",
    "    '''\n",
    "\n",
    "    # Hide the right and top spines\n",
    "    axis.spines['right'].set_visible(False)\n",
    "    axis.spines['top'].set_visible(False)\n",
    "    # Only show ticks on the left and bottom spines\n",
    "    axis.yaxis.set_ticks_position('left')\n",
    "    axis.xaxis.set_ticks_position('bottom')\n",
    "    return\n",
    "\n",
    "# Create a histogram showing the distribution of the eigenvalues.\n",
    "# For ease, we will normalised the eigenvalues by pi.\n",
    "fig, ax = plt.subplots(1)\n",
    "FigWindowSettings(ax)\n",
    "ax.hist(wVals / np.pi, bins = int(nVals/10))\n",
    "ax.set_xlabel(r'$\\frac{\\omega}{\\pi}$')\n",
    "ax.set_ylabel(r'Frequency density')\n",
    "ax.set_title(r'Histogram of eigenvalue distribution')\n",
    "fig.show()\n",
    "\n",
    "# The histogram might be a bit crowded and also removes the ability to see relative distance \n",
    "# between the e'vals though, we can use a scatter plot of the eigenvalues to recover this.\n",
    "fig, ax = plt.subplots(1)\n",
    "FigWindowSettings(ax)\n",
    "ax.scatter(wVals/np.pi, np.zeros_like(wVals), s=2, c='red', marker='x')\n",
    "ax.set_ylim([-0.01,0.01])\n",
    "ax.set_xlabel(r'$\\frac{\\omega}{\\pi}$')\n",
    "ax.set_title(r'Placement of eigenvalues along the real line')\n",
    "fig.show()"
   ]
  },
  {
   "cell_type": "code",
   "execution_count": 6,
   "metadata": {},
   "outputs": [
    {
     "name": "stderr",
     "output_type": "stream",
     "text": [
      "/home/will/anaconda3/envs/fenicsproject/lib/python3.6/site-packages/matplotlib/figure.py:457: UserWarning: matplotlib is currently using a non-GUI backend, so cannot show the figure\n",
      "  \"matplotlib is currently using a non-GUI backend, \"\n"
     ]
    },
    {
     "data": {
      "image/png": "[encoded data removed]",
      "text/plain": [
       "<Figure size 432x288 with 2 Axes>"
      ]
     },
     "metadata": {},
     "output_type": "display_data"
    }
   ],
   "source": [
    "def PlotSolution(u):\n",
    "    '''\n",
    "    Creates a figure and axis object for plotting the function u that is passed.\n",
    "    '''\n",
    "    fig, ax = plt.subplots(1)\n",
    "    FigWindowSettings(ax)\n",
    "    plot(u)\n",
    "    fig.colorbar(plot(u))\n",
    "    ax.set_xlabel(r'$x$')\n",
    "    ax.set_ylabel(r'$y$')\n",
    "    \n",
    "    return fig, ax\n",
    "    \n",
    "w = 1\n",
    "u = Function(V)\n",
    "u.vector()[:] = wVecs[:,w]\n",
    "\n",
    "fig, ax = PlotSolution(u)\n",
    "ax.set_title(r'$ \\omega= %.5e $' % (wVals[w]))\n",
    "fig.show()"
   ]
  },
  {
   "cell_type": "code",
   "execution_count": null,
   "metadata": {},
   "outputs": [],
   "source": []
  }
 ],
 "metadata": {
  "kernelspec": {
   "display_name": "Python 3",
   "language": "python",
   "name": "python3"
  },
  "language_info": {
   "codemirror_mode": {
    "name": "ipython",
    "version": 3
   },
   "file_extension": ".py",
   "mimetype": "text/x-python",
   "name": "python",
   "nbconvert_exporter": "python",
   "pygments_lexer": "ipython3",
   "version": "3.6.6"
  }
 },
 "nbformat": 4,
 "nbformat_minor": 2
}
