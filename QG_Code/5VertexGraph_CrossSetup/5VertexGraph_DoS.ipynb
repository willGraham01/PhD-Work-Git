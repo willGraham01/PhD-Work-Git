{
 "cells": [
  {
   "cell_type": "markdown",
   "metadata": {},
   "source": [
    "## Cross-in-Plane Graph Density of States Plots\n",
    "\n",
    "**_NOTE_:** This script is written using the `PythonBasics` environment.\n",
    "\n",
    "Estimate the Integrated Density of States (IDoS) and Density of States (DoS) from the dispersion relation\n",
    "\\begin{align}\n",
    "    \\cos(\\omega) + \\frac{\\alpha\\omega}{4}\\sin(\\omega) = \\cos\\left( \\frac{\\theta_1-\\theta_2}{2} \\right) \\cos\\left( \\frac{\\theta_1+\\theta_2}{2} \\right). \\qquad (*)\n",
    "\\end{align}\n",
    "Here, $\\alpha<0$, $\\omega\\geq0$, and $\\theta\\in[-\\pi,\\pi)^2$.\n",
    "\n",
    "The integrated density of states $\\mathcal{I}_n$ for each spectral band $I_n$ is defined as follows;\n",
    "\\begin{align*}\n",
    "    \\mathcal{I}_n(x) &= \\lambda_2 \\left( \\{ \\theta \\ \\vert \\ (\\omega, \\theta) \\text{ solves } (*) \\text{ where } \\omega \\leq x, \\omega\\in I_n \\} \\right).\n",
    "\\end{align*}\n",
    "The density of states $\\mathcal{D}_n$ for each band is then computed by differentiating;\n",
    "$$ \\mathcal{D}_n(x) = \\dfrac{\\mathrm{d}\\mathcal{I}_n}{\\mathrm{d}x}(x). $$\n",
    "\n",
    "Let us define\n",
    "\\begin{align*}\n",
    "    \\Psi(\\omega) &= \\cos\\omega + \\frac{\\alpha\\omega}{4}\\sin\\omega, \\\\\n",
    "    \\Phi(\\theta) &= \\cos\\theta_1 + \\cos\\theta_2.\n",
    "\\end{align*}\n",
    "We know that, for $n\\in\\mathbb{N}$,\n",
    "\\begin{align*}\n",
    "    \\Psi(n\\pi)=(-1)^n, \\quad\n",
    "    \\Psi'(n\\pi) = \\left\\lvert \\frac{\\alpha n\\pi}{4} \\right\\rvert (-1)^{n+1},\n",
    "\\end{align*}\n",
    "and since $-1 \\leq \\phi(\\theta) \\leq 1$ for all $\\theta$, we know that $n\\pi$ marks the end of each spectral band $I_n$.\n",
    "We also know that there exists a $c_n\\in\\left((n-1)\\pi,n\\pi\\right)$ such that $\\Psi(c_n)=(-1)^{n-1}$, and thus the spectral band $I_n = \\left(c_n, n\\pi \\right)$.\n",
    "Note that the right-endpoint of $I_n$ might be closed, depending on whether $n$ is odd or even.\n",
    "Finally, we can see that $\\Psi$ is either strictly increasing ($n$ even) or strictly decreasing ($n$ odd) over the spectral band $I_n$.\n",
    "\n",
    "Next, let $x\\in I_n$.\n",
    "Note that $\\mathcal{I}(x)=0$ whenever $x<y$.\n",
    "Otherwise, we can use our information about $\\Psi$ to note that\n",
    "\\begin{align*}\n",
    "    m_n := \\min_{[c_n,x]}\\Psi &= \\begin{cases} \\psi(x) & n \\text{ odd}, \\\\ \\psi(c_n) & n \\text{ even}. \\end{cases}\n",
    "    \\\\\n",
    "    M_n := \\max_{[c_n,x]}\\Psi &= \\begin{cases} \\psi(c_n) & n \\text{ odd}, \\\\ \\psi(x) & n \\text{ even}. \\end{cases}\n",
    "\\end{align*}\n",
    "Then using $(*)$, we just need to compute the area of the region $\\theta$ such that\n",
    "\\begin{align*}\n",
    "    & m_n \\leq \\cos\\left( \\frac{\\theta_1-\\theta_2}{2} \\right) \\cos\\left( \\frac{\\theta_1+\\theta_2}{2} \\right) \\leq M_n, \\\\\n",
    "    \\Rightarrow & 2m_n \\leq \\Phi(\\theta) \\leq 2M_n. \\qquad (**)\n",
    "\\end{align*}\n",
    "To do so, we can just take a suitable \"mesh\" for $\\theta$, determine whether the inequality holds at each of the mesh-points, and approximate the area by multiplying the number of mesh points $\\theta_{xy}$ which satisfy the equation by the \"cell area\" of the mesh (area of the region whose closest mesh point is $\\theta_{xy}$).\n",
    "We could try to be a bit smarter by actually solving the inequality above for the exact region enclosing admissible $\\theta$'s, but I think this is (a) hard and (b) a lot of effort for not much gain.\n",
    "\n",
    "The plan to determine $\\mathcal{I}_n$ is thus as follows;\n",
    "1. Compute an estimate to $c_n$.\n",
    "1. Determine $M_n$ and $m_n$.\n",
    "1. Mesh theta appropriately.\n",
    "1. Determine mesh points which solve $(**)$.\n",
    "1. Compute numerical estimate of IDoS, and hence of DoS."
   ]
  },
  {
   "cell_type": "code",
   "execution_count": 1,
   "metadata": {},
   "outputs": [],
   "source": [
    "import numpy as np\n",
    "\n",
    "from scipy.optimize import bisect\n",
    "\n",
    "import matplotlib.pyplot as plt\n",
    "from matplotlib import rc\n",
    "rc('text', usetex=True)\n",
    "\n",
    "%matplotlib inline\n",
    "\n",
    "from mpl_toolkits.mplot3d import axes3d\n",
    "\n",
    "import time"
   ]
  },
  {
   "cell_type": "markdown",
   "metadata": {},
   "source": [
    "#### `Psi(omega, alpha)`\n",
    "\n",
    "Computes the value of the left-hand-side (LHS) of the equation $(*)$, for the given value of $\\omega=$ `omega` and $\\alpha=$ `alpha`.\n",
    "\n",
    "`omega` may be passed in as a vector, in which case `Psi` will compute the value of the LHS of $(*)$ for each value in `omega`, returning an array of the same shape. "
   ]
  },
  {
   "cell_type": "code",
   "execution_count": 2,
   "metadata": {},
   "outputs": [],
   "source": [
    "def Psi(omega, alpha):\n",
    "    '''\n",
    "    Computes the LHS of equation (*), for vector omega and scalar alpha\n",
    "    INPUTS:\n",
    "        omega: (n,) float numpy array; values of omega to compute LHS of (*) at\n",
    "        alpha: float; value of alpha to use\n",
    "    OUTPUTS:\n",
    "        LHS: (n,) numpy array; values of the LHS of (*) at the values of omega that were given\n",
    "    '''\n",
    "    \n",
    "    LHS = np.cos(omega) + (alpha * omega * np.sin(omega))/4.0\n",
    "    return LHS"
   ]
  },
  {
   "cell_type": "markdown",
   "metadata": {},
   "source": [
    "#### `Phi(theta)`\n",
    "\n",
    "Computes the value of the function $\\Phi$ defined above, equivalently half the value of the right-hand-side (RHS) of the equation $(*)$, at the value $\\theta$ = `theta`.\n",
    "\n",
    "`theta` can be of shape `(n,2)`, in which case the function returns a vector of shape `(n,)` with the values of $\\Phi$, using each row of `theta` as a pair $\\theta_1, \\theta_2$."
   ]
  },
  {
   "cell_type": "code",
   "execution_count": 3,
   "metadata": {},
   "outputs": [],
   "source": [
    "def Phi(theta):\n",
    "    '''\n",
    "    Computes the RHS of equation (*) for theta1, theta2 pairs stored row-wise (theta of shape (n,2))\n",
    "    INPUTS:\n",
    "        theta: (n,2) numpy array; quasimomentum pairs stored row-wise\n",
    "    OUTPUTS:\n",
    "        RHS: (n,) numpy array; RHS of equation (*) for the theta pairs passed\n",
    "    '''\n",
    "    \n",
    "    if theta.ndim>1:\n",
    "        RHS = np.sum(np.cos(theta), axis=1)\n",
    "    else:\n",
    "        # if theta is of shape (2,), we can't use the np.sum function.\n",
    "        # we can handle this case here, however if we know that a shape (2,) is being passed in, we can also handle\n",
    "        # it by passing in np.array([theta]) instead.\n",
    "        if theta.ndim==1:\n",
    "            RHS = np.sum(np.cos(theta))\n",
    "        else:\n",
    "            raise AxisError('theta must be of shape (n,2) or shape (2,), got', theta.shape)\n",
    "    return RHS    "
   ]
  },
  {
   "cell_type": "markdown",
   "metadata": {},
   "source": [
    "#### `FindBandMin(bandN, alpha, expMax)`\n",
    "\n",
    "Computes the left-end-point of the band $I_{\\text{bandN}}$, given that $\\alpha=$ `alpha`. `expMax` is a loop-breaker for when we need to determine a suitable left-starting point for the binary search.\n",
    "\n",
    "Computing the left-end-point of the band $I_n$ is relatively simple: we are simply solving for $\\Psi(\\omega, \\alpha) = (-1)^{n-1}$.\n",
    "We also know that a root must exist in the region $((n-1)\\pi, n\\pi)$, and $\\Psi$ is continuous, so binary search is perfectly applicable.\n",
    "\n",
    "One slight complication is that we cannot start the binary search using the left-endpoint $(n-1)\\pi$, since $(n-1)\\pi$ will be immediately returned as the answer.\n",
    "However this is the right-end of the band $I_{n-1}$ rather than the left-end of the band $I_n$.\n",
    "As such, we must move the left-starting point of the binary search to a value slightly greater than $(n-1)\\pi$, but whilst retaining the same sign as $\\Psi((n-1)\\pi)$.\n",
    "To so do, we just take the first such applicable point of the form $(n-1)\\pi + 10^{-j}$, where $j$ is successively increased from $0$ through `expMax-1`."
   ]
  },
  {
   "cell_type": "code",
   "execution_count": 4,
   "metadata": {},
   "outputs": [],
   "source": [
    "def FindBandMin(bandN, alpha, expMax=8):\n",
    "    '''\n",
    "    Given the index n of a band, and the value of alpha to use, compute the value c_n denoting the left-end-point\n",
    "    of the band I_n.\n",
    "    INPUTS:\n",
    "        bandN: int; the index n of the band I_n of which we want to determine the left endpoint\n",
    "        alpha: float; the value of alpha in (*)\n",
    "        expMax: int (default 8); minimum exponent for nudge from (n-1)pi in binary search start\n",
    "    OUTPUTS:\n",
    "        c: float; approximation to the left enpoint of the band I_n = [c, n*pi]\n",
    "    '''\n",
    "    \n",
    "    # first, if alpha <=2 and bandN=1, the first band starts at 0, so we should just escape\n",
    "    if ( (bandN==1) and (alpha<=2.0) ):\n",
    "        return 0\n",
    "    elif alpha<=0.0:\n",
    "        # if alpha<=0, the bands START at (n-1)*pi and terminate at some value prior to n*pi,\n",
    "        # so return (bandN-1)*pi\n",
    "        return (bandN-1)*np.pi\n",
    "    # otherwise, we'll need to estimate the left endpoint via a binary search\n",
    "    \n",
    "    # we find the left-endpoint of the spectral band I_n via binary search,\n",
    "    # Psi is continuous, and we know that Psi(n\\pi) and Psi((n-1)\\pi) have different signs (are even +/-1).\n",
    "    # we just need to make sure that we either subtract or add one to Psi to find the left-endpoint\n",
    "    if bandN%2==0:\n",
    "        # if bandN is even, Psi(n\\pi) = 1, so we are looking for when Psi = -1\n",
    "        f = lambda x: Psi(x, alpha=alpha) + 1\n",
    "        fEnd = -1.0\n",
    "    else:\n",
    "        # bandN is odd, Psi(n\\pi) = -1, so we are looking for when Psi = 1\n",
    "        f = lambda x: Psi(x, alpha=alpha) - 1\n",
    "        fEnd = 1.0\n",
    "    # we can't bisect starting at (bandN-1)*np.pi, since this will be taken as the answer,\n",
    "    # however it is the right-end of the previous band, not the left-end of this band.\n",
    "    # the cheeky hack is just to start by adding on a small value to (bandN-1)*np.pi, \n",
    "    # so that we are always \"pushed\" away from it\n",
    "    for i in range(expMax):\n",
    "        nudged = (bandN-1) * np.pi + 1./(10.**i)\n",
    "        if ( fEnd * f(nudged) ) > 0:\n",
    "            # these points have the same sign, so we can binary search from nudged instead\n",
    "            break\n",
    "        elif i==7:\n",
    "            raise ValueError('Could not nudge to find left-endpoint of band %d' % (bandN))\n",
    "    c = bisect(f, nudged, bandN*np.pi)\n",
    "    \n",
    "    return c"
   ]
  },
  {
   "cell_type": "markdown",
   "metadata": {},
   "source": [
    "#### `IsBetween(values, a, b)`\n",
    "\n",
    "Determines whether the inequality `a` $\\leq$ `values` $\\leq$ `b` holds, returning a `True` or `False` value.\n",
    "\n",
    "If `values` is an array, the inequality will be checked for every value in `values`, and the output will be an array of `True/False` values with the element-wise result."
   ]
  },
  {
   "cell_type": "code",
   "execution_count": 5,
   "metadata": {},
   "outputs": [],
   "source": [
    "def IsBetween(values, a, b):\n",
    "    '''\n",
    "    Checks whether the inequality a <= values <= b is satisfied, returning a boolian True/False value.\n",
    "    If values is a vector, the function operates element-wise and returns a boolian array.\n",
    "    INPUTS:\n",
    "        values: float or numpy array\n",
    "        a: float; lower bound for values\n",
    "        b: float; upper bound for values, should be greater than a\n",
    "    OUTPUTS:\n",
    "        tf: bool of same shape as values; True/False values indicating whether the inequality was satisfied\n",
    "    '''   \n",
    "    midPoint = (a+b) / 2.0\n",
    "    halfDiff = (b-a) / 2.0\n",
    "    tf = np.abs(values - midPoint) <= halfDiff\n",
    "    \n",
    "    return tf"
   ]
  },
  {
   "cell_type": "markdown",
   "metadata": {},
   "source": [
    "#### `CreateBandIDoS(t1Pts, t2Pts, bandN, alpha)`\n",
    "\n",
    "Creates the IDoS function $\\mathcal{I}_{\\mathrm{bandN}}$ for the band $I_{\\mathrm{bandN}}$, with the given value of $\\alpha$ and using a `t1Pts` $\\times$ `t2Pts` mesh in $\\theta$.\n",
    "\n",
    "The mesh created for $\\theta$ is always uniform in each dimension, although the mesh \"step\" in each dimension can be different if desired.\n",
    "\n",
    "Using the created mesh, the midpoints $\\theta_m$ are determined, and $\\Phi$ is evaluated at every pair of midpoints in $\\theta_m$.\n",
    "The idea is that, if a certain $\\theta^*_m$ satisfies $(*)$, we approximate this as meaning all values of $\\theta$ whose closest midpoint is $\\theta^*_m$ also satisfy $(*)$.\n",
    "This gives us an \"area\" in $\\theta$-space which contributes to the value of $\\mathcal{I}_{\\mathrm{bandN}}$.\n",
    "\n",
    "Then, for each $x$ and `bandN`, we can approximate $\\mathcal{I}_{\\mathrm{bandN}}$ by computing the bounds in $(**)$ and summing over the contributing $\\theta_m$.\n",
    "Obviously, the approximation gets better with more meshpoints, and the quality of the approximation to $\\mathcal{D}_{\\mathrm{bandN}}$ also depends greatly on the \"mesh step\" in $\\theta$.\n",
    "\n",
    "`**kwargs`:\n",
    "- expMax: passed to `FindBandMin`\n",
    "\n",
    "##### Functions created by this function: \n",
    "`IDosN(x)`\n",
    "\n",
    "Computes the value of $\\mathcal{I}_{\\mathrm{bandN}}$ at the value `x`.\n",
    "`x` may be passed in as a vector of values, in which case `IDosN` returns a vector of the same shape with element-wise evaluation."
   ]
  },
  {
   "cell_type": "code",
   "execution_count": 6,
   "metadata": {},
   "outputs": [],
   "source": [
    "def CreateBandIDoS(t1Pts, t2Pts, bandN, alpha, **kwargs):\n",
    "    '''\n",
    "    Create a function handle to evaluate IDoS for the given band, at the value of alpha provided.\n",
    "    Use a mesh in theta constructed from t1Pts-by-t2Pts vertices.\n",
    "    INPUTS:\n",
    "        t1Pts, t2Pts: int; number of meshpoints to use in each dimension of theta\n",
    "        bandN: int; index n of the spectral band we want the IDoS for\n",
    "        alpha: float; value alpha in (*) and (**)\n",
    "    OUTPUTS:\n",
    "        IDosN: function; the function IDoS(x) for this band\n",
    "        dt: (2,) numpy array; the mesh-step in each dimension of theta\n",
    "    **kwargs:\n",
    "        expMax: passed to FindBandMin\n",
    "    '''\n",
    "\n",
    "    # determine mesh for theta\n",
    "    t1Splits = np.linspace(-np.pi, np.pi, t1Pts)\n",
    "    t2Splits = np.linspace(-np.pi, np.pi, t2Pts)\n",
    "    # determine the centres of the \"squares\" that we are breaking [-pi, pi) into\n",
    "    t1Mids = (t1Splits[1:] + t1Splits[:-1]) / 2.\n",
    "    t2Mids = (t2Splits[1:] + t2Splits[:-1]) / 2.\n",
    "    # create an array of pairs of thetas, from the midpoints\n",
    "    thetaPairs = np.array(np.meshgrid(t1Mids, t2Mids)).T.reshape(-1,2)\n",
    "    # this is the \"mesh step\" in each dimension of theta\n",
    "    dt = np.array([t1Splits[1]-t1Splits[0], t2Splits[1]-t2Splits[0]])\n",
    "    # compute \"area\" around each meshpoint, uniform mesh so only one value is to be computed\n",
    "    pointArea = np.prod(dt)\n",
    "    # now, evaluate Phi at each theta pair\n",
    "    phiVals = Phi(thetaPairs)\n",
    "\n",
    "    # now, for a given bandN and x\\in[c_n, n*pi], we just need to check how many entries in phiVals satisfy\n",
    "    # equation (**)\n",
    "    if 'expMax' in kwargs.items():\n",
    "        c = FindBandMin(bandN, alpha, expMax=kwargs['expMax'])\n",
    "    else:\n",
    "        c = FindBandMin(bandN, alpha)\n",
    "\n",
    "    # create function handles - remember that the bandID will affect whether Psi(x) is the max or min value in\n",
    "    # (**)\n",
    "    if bandN%2==0:\n",
    "        # I_n with n even\n",
    "        mn = Psi(c, alpha)\n",
    "        # create IDoS function\n",
    "        def IDosN(x):\n",
    "            '''\n",
    "            Integrated density of states (IDoS) for the band I_{bandN}\n",
    "            '''\n",
    "            Mn = Psi(x, alpha)\n",
    "            iDosVal = np.zeros_like(x)\n",
    "            for i, M in enumerate(Mn):\n",
    "                goodTheta = IsBetween(phiVals, 2.*mn, 2.*M)\n",
    "                iDosVal[i] = np.sum(goodTheta) * pointArea\n",
    "            # cleanup \"outside band\" possibilities\n",
    "            iDosVal[x < c] = 0.\n",
    "            iDosVal[x > bandN*np.pi] = (2.*np.pi)**2\n",
    "            return iDosVal\n",
    "    else:\n",
    "        # I_n with odd n\n",
    "        Mn = Psi(c, alpha)\n",
    "        # create IDoS function\n",
    "        def IDosN(x):\n",
    "            '''\n",
    "            Integrated density of states (IDoS) for the band I_{bandN}\n",
    "            '''        \n",
    "            mn = Psi(x, alpha)\n",
    "            iDosVal = np.zeros_like(x)\n",
    "            for i, m in enumerate(mn):\n",
    "                goodTheta = IsBetween(phiVals, 2.*m, 2.*Mn)\n",
    "                iDosVal[i] = np.sum(goodTheta) * pointArea\n",
    "            iDosVal[x < c] = 0.\n",
    "            iDosVal[x > bandN*np.pi] = (2.*np.pi)**2\n",
    "            return iDosVal\n",
    "    \n",
    "    #return the created function handle and dt\n",
    "    return IDosN, dt"
   ]
  },
  {
   "cell_type": "markdown",
   "metadata": {},
   "source": [
    "#### `CreateBandDoS(IDosN, t1Pts, t2Pts)`\n",
    "\n",
    "Creates the function $\\mathcal{D}$ using finite differences and the function $\\mathcal{I}_{n}$ (that evaluates an IDoS) which is passed in.\n",
    "\n",
    "We can compute $\\mathcal{D}_n$ from $\\mathcal{I}_{n}$ using finite differences, since\n",
    "\\begin{align*}\n",
    "    \\mathcal{D}_n &= \\dfrac{\\mathrm{d}\\mathcal{I}_n}{\\mathrm{d}x} \\\\\n",
    "    &= \\lim_{dx\\rightarrow 0} \\frac{\\mathcal{I}_n(x + dx) - \\mathcal{I}_n(x)}{dx},\n",
    "\\end{align*}\n",
    "for a suitably small $dx$, we can numerically estimate the limit.\n",
    "\n",
    "The value $dx$ that is used is computed from looking at the mesh in $\\theta$ (constructed from `t1Pts` and `t2Pts` as in `CreateBandIDoS`) and determining the maximum difference between subsequent values of $\\Phi$.\n",
    "This serves as an approximation for \"how discrete\" the values $\\mathcal{I}_{n}$ returns are - namely, the change in $x$ required to produce a change in $\\mathcal{I}_{n}(x)$, due to the discretisation of $\\theta$.\n",
    "\n",
    "##### Functions created by this function: \n",
    "`DosN(x)`\n",
    "\n",
    "Computes the value of $\\mathcal{D}_{n}$ at the value `x`.\n",
    "`x` may be passed in as a vector of values, in which case `DosN` returns a vector of the same shape with element-wise evaluation."
   ]
  },
  {
   "cell_type": "code",
   "execution_count": 7,
   "metadata": {},
   "outputs": [],
   "source": [
    "def CreateBandDoS(IDosN, t1Pts, t2Pts):\n",
    "    '''\n",
    "    Create a function handle to evaluate DoS given the IDoS passed in.\n",
    "    Use finite differences to estimate the derivative that is involved.\n",
    "    INPUTS:\n",
    "        IDosN: function (x); evaluates the IDoS for some band at some value of alpha, output of CreateBandIDoS\n",
    "        t1Pts, t2Pts: int; number of meshpoints to use in each dimension of theta when checking if the finite\n",
    "        difference approximation will produce good results.\n",
    "    OUTPUTS:\n",
    "        DosN: function; the function DoS(x) for this band\n",
    "        dx: float; the finite-difference step used to approximate derivatives\n",
    "    '''\n",
    "    \n",
    "    # construct the theta meshes as for IDos, in order to find appropriate finite difference step \n",
    "    t1Splits = np.linspace(-np.pi, np.pi, t1Pts)\n",
    "    t2Splits = np.linspace(-np.pi, np.pi, t2Pts)\n",
    "    t1Mids = (t1Splits[1:] + t1Splits[:-1]) / 2.\n",
    "    t2Mids = (t2Splits[1:] + t2Splits[:-1]) / 2.\n",
    "    thetaPairs = np.array(np.meshgrid(t1Mids, t2Mids)).T.reshape(-1,2)\n",
    "    # now, evaluate Phi at each theta pair, and take the difference between values\n",
    "    phiVals = Phi(thetaPairs)\n",
    "    phiDiffs = np.abs(phiVals[1:] - phiVals[:-1])\n",
    "    # we will use dx = max. difference in phiDiffs between subsequent values\n",
    "    # as an approximation to the infinitesimal in the definition of derivative\n",
    "    dx = np.max(phiDiffs)\n",
    "\n",
    "    # create the function handle\n",
    "    def DosN(x):\n",
    "        '''\n",
    "        Density of states (DoS), created using CreateBandDoS.\n",
    "        '''\n",
    "        bandDos = ( IDosN(x + dx) - IDosN(x) ) / dx\n",
    "        return bandDos\n",
    "    # return function and finite-step value\n",
    "    return DosN, dx"
   ]
  },
  {
   "cell_type": "markdown",
   "metadata": {},
   "source": [
    "#### `BandPlotValues(bandN, bandPts, alpha, t1Pts, t2Pts, iNormalise)`\n",
    "\n",
    "For the band with $n=$ `bandN`, construct the arrays which will be used to plot the band's IDoS, DoS, and contribution to the spectrum.\n",
    "\n",
    "The values of the IDoS are be normalised (by $(2\\pi)^2$) by default - this can be toggled using the `iNormalise` variable.\n",
    "\n",
    "The values of `t1Pts` and `t2Pts` are passed into the contructor functions `CreateBandIDoS` and `CreateBandDoS`, but have default values of 1000 as this is a relatively good speed/quality trade-off."
   ]
  },
  {
   "cell_type": "code",
   "execution_count": 8,
   "metadata": {},
   "outputs": [],
   "source": [
    "def BandPlotValues(bandN, bandPts, alpha, t1Pts=1000, t2Pts=1000, iNormalise=True):\n",
    "    '''\n",
    "    Construct the arrays for a given band which will be used for plotting the IDoS, DoS, and spectrum.\n",
    "    INPUTS:\n",
    "        bandN: int; band number\n",
    "        bandPts: int; the number of points x to break the interval [(bandN-1)pi, bandN*pi] into\n",
    "        alpha: float; value of alpha in (*) and (**)\n",
    "        t1Pts, t2Pts: numpy array (default 1000); passed to CreateBandIDoS and CreateBandDoS\n",
    "        iNormalise: bool (default True); if True, the IDoS values will be normalised by (2pi)^2\n",
    "    OUTPUTS:\n",
    "        xRange: (bandPts,) numpy array; values of omega (or x) used for evaluation\n",
    "        iDosVals: (bandPts,) numpy array; values of the IDoS\n",
    "        dosVals: (bandPts,) numpy array; values of the DoS\n",
    "        psiGood: (bandPts,) numpy array; boolian values as to whether each given x lies in the spectrum\n",
    "    '''\n",
    "    \n",
    "    # create the values in this band that we'll need to evaluate IDoS and DoS at\n",
    "    xRange = np.linspace((bandN-1)*np.pi, bandN*np.pi, bandPts)\n",
    "    # get the function handles for DoS and IDoS\n",
    "    IDosN, dt = CreateBandIDoS(t1Pts, t2Pts, bandN, alpha)\n",
    "    DosN, dx = CreateBandDoS(IDosN, t1Pts, t2Pts)\n",
    "    # compute values of DoS and IDoS\n",
    "    # if iNormalise, we should normalise the IDoS values by dividing by (2pi)^2\n",
    "    if iNormalise:\n",
    "        iDosVals = IDosN(xRange)/(2.*np.pi)**2\n",
    "    else:\n",
    "        iDosVals = IDosN(xRange)\n",
    "    dosVals = DosN(xRange)\n",
    "    # finally, compute values for which -1 <= Psi(x) <= 1\n",
    "    psiVals = Psi(xRange, alpha)\n",
    "    psiGood = np.zeros_like(xRange, dtype=float)\n",
    "    psiGood[IsBetween(psiVals, -1., 1.)] = 1.0\n",
    "    psiGood[0] = 0.0\n",
    "    \n",
    "    return xRange, iDosVals, dosVals, psiGood"
   ]
  },
  {
   "cell_type": "markdown",
   "metadata": {},
   "source": [
    "#### `CreatePlots(lastBand, bandPts, alpha, firstBand=1, labels='Paper', t1Pts=1000, t2Pts=1000, iNormalise=True)`\n",
    "\n",
    "Create a plot of $\\mathcal{I}$, the spectrum, and $\\mathcal{D}$ on a shared $\\omega$-axis, from the beginning of the band `firstBand` to the beginning of the band `lastBand`.\n",
    "Note that this means that bands `firstBand` through `lastBand-1` are plotted.\n",
    "The value of $\\alpha$ in $(*)$ and $(**)$ must be passed in, along with the number of points (per band) to discretise the $\\omega$ axis into.\n",
    "The optional argument `labels` defaults to a string `Paper`, which ensures that the plot uses the same formatting for it's axis labels and title as intended for the `Paper_Scalar2020` file.\n",
    "The other set of labels used (when `labels` is set to anything else) uses the notation established in this notebook.\n",
    "\n",
    "Multiple optional arguments are accepted, so that they can be passed into functions which are called by this function during the creation of the plot (and creation of data for the plot).\n",
    "These include:\n",
    "- `t1Pts` and `t2Pts`; passed to `CreateBandIDoS` and `CreateBandDoS`\n",
    "- `iNormalise`; passed to `BandPlotValues`"
   ]
  },
  {
   "cell_type": "code",
   "execution_count": 9,
   "metadata": {},
   "outputs": [],
   "source": [
    "def CreatePlots(lastBand, bandPts, alpha, firstBand=1, labels='Paper', t1Pts=1000, t2Pts=1000, iNormalise=True):\n",
    "    '''\n",
    "    Create a plot of the IDoS, DoS, and spectrum on a shared omega-axis, for the given value of alpha \n",
    "    and from the beginning of band firstBand to the beginning of band lastBand.\n",
    "    Note that this means lastBand itself is not included in the plot.\n",
    "    INPUTS:\n",
    "        lastBand: int; index of the band, at the beginning of which the plot range ends\n",
    "        bandPts: int; number of discrete points to divide the interval [(n-1)pi, n*pi] into for plotting each band\n",
    "        alpha: float; value alpha in (*) and (**)\n",
    "        firstBand: int (default 1); index of the band at which the plot begins\n",
    "        labels: float (default 'Paper'); format selection for axis labels in the plots produced\n",
    "        t1Pts, t2Pts: int (default 1000); passed to CreateBandIDoS and CreateBandDoS\n",
    "        iNormalise: bool (default True); passed to BandPlotValues\n",
    "    OUTPUTS:\n",
    "        fig, ax: matplotlib handles; the matplotlib figure produced\n",
    "    '''\n",
    "    \n",
    "    # the number of points in total that will be in the plot is determined by\n",
    "    # (lastBand - firstBand)*(bandPts - 1) + 1\n",
    "    # IE; bandPts - 1 for each band (due to the duplicate entry at the left of each band),\n",
    "    # + 1 to account for the first band to plot having no band on it's left so retaining the left-endpoint\n",
    "    nPtsTotal = (lastBand - firstBand)*(bandPts - 1) + 1\n",
    "    # now create the arrays which will store the values...\n",
    "    xRangeStore = np.zeros((nPtsTotal), dtype=float)\n",
    "    iDoSStore = np.zeros((nPtsTotal), dtype=float)\n",
    "    doSStore = np.zeros((nPtsTotal), dtype=float)\n",
    "    specStore = np.zeros((nPtsTotal), dtype=float)\n",
    "    \n",
    "    # store first band information\n",
    "    print('Working on band %d' % firstBand, end=': ')\n",
    "    st = time.time()\n",
    "    x1, i1, d1, s1 = BandPlotValues(firstBand, bandPts, alpha, t1Pts=t1Pts, t2Pts=t2Pts, iNormalise=iNormalise)\n",
    "    ft = time.time()\n",
    "    print('completed in %s seconds' % (ft-st))\n",
    "    xRangeStore[:bandPts] = x1\n",
    "    iDoSStore[:bandPts] = i1\n",
    "    doSStore[:bandPts] = d1\n",
    "    specStore[:bandPts] = s1\n",
    "    # loop over every other band to be plotted, removing the left-endpoint as a duplicate\n",
    "    for n in range(firstBand+1, lastBand):\n",
    "        storeStart = bandPts + (bandPts-1)*(n-firstBand-1)\n",
    "        print('Working on band %d' % n, end=': ')\n",
    "        st = time.time()\n",
    "        xN, iN, dN, sN = BandPlotValues(n, bandPts, alpha, t1Pts=t1Pts, t2Pts=t2Pts, iNormalise=iNormalise)\n",
    "        ft = time.time()\n",
    "        print('completed in %s seconds' % (ft-st))\n",
    "        xRangeStore[storeStart:storeStart+bandPts-1] = xN[1:]\n",
    "        iDoSStore[storeStart:storeStart+bandPts-1] = iN[1:]\n",
    "        doSStore[storeStart:storeStart+bandPts-1] = dN[1:]\n",
    "        specStore[storeStart:storeStart+bandPts-1] = sN[1:]\n",
    "    # we should now have the master arrays, which we can now assemble into the plots...\n",
    "    \n",
    "    print('Creating plot', end=': ')\n",
    "    st = time.time()\n",
    "    fig, ax = plt.subplots(3, sharex=True, gridspec_kw={'hspace': 0.5})\n",
    "\n",
    "    ax[0].plot(xRangeStore/np.pi, iDoSStore)\n",
    "    ax[1].scatter(xRangeStore/np.pi, specStore, s=3., marker='x', c='red')\n",
    "    ax[1].set_ylim(0.5,1.5)\n",
    "    ax[2].plot(xRangeStore/np.pi, doSStore)\n",
    "    if labels=='Paper':\n",
    "        ax[0].set_title('IDoS, spectrum, and DoS, alpha=%.2f' % (alpha))\n",
    "        ax[0].set_ylabel(r'$\\frac{\\mathrm{IDoS} \\ \\mathrm{(rel.)}}{(2\\pi)^{2}}$')\n",
    "        ax[1].set_ylabel(r'Spectrum')\n",
    "        ax[2].set_xlabel(r'$\\frac{\\omega}{\\pi}$')\n",
    "        ax[2].set_ylabel(r'$\\mathrm{DoS}$')\n",
    "    else:\n",
    "        ax[0].set_title('IDoS, spectrum, and DoS, alpha=%.3f' % (alpha))\n",
    "        ax[0].set_ylabel(r'$\\frac{\\mathcal{I}}{(2\\pi)^2}$')\n",
    "        ax[1].set_ylabel(r'Spectrum')\n",
    "        ax[2].set_xlabel(r'$\\frac{\\omega}{\\pi}$')\n",
    "        ax[2].set_ylabel(r'$\\mathcal{D}$')\n",
    "    ft = time.time()\n",
    "    print('completed in %s seconds' % (ft-st))\n",
    "    \n",
    "    return fig, ax"
   ]
  },
  {
   "cell_type": "markdown",
   "metadata": {},
   "source": [
    "#### `DispRelPlot(lastBand, bandPts, alpha, firstBand, labels)`\n",
    "\n",
    "Creates a plot of the function $\\Psi$ above, for the given value of $\\alpha$.\n",
    "The extent of the plot on the $\\omega$-axis is the beginning of the band with index `firstBand`, through to the beginning of the band `lastBand`.\n",
    "The optional argument `labels` defaults to a string `Paper`, which ensures that the plot uses the same formatting for it's axis labels and title as intended for the `Paper_Scalar2020` file - including the alias change from $\\Psi$ to $\\Xi$ for the function we are plotting.\n",
    "The other set of labels used (when `labels` is set to anything else) uses the notation established in this notebook.\n",
    "\n",
    "The plot consists of the function $\\Psi$ itself, a scatter plot of the spectrum of the function, and two horizontal bars indicating the values $\\pm 1$, to show which portions of $\\Psi$ correspond to eigenvalues."
   ]
  },
  {
   "cell_type": "code",
   "execution_count": 10,
   "metadata": {},
   "outputs": [],
   "source": [
    "def DispRelPlot(lastBand, bandPts, alpha, firstBand=1, labels='Paper'):\n",
    "    '''\n",
    "    Creates a plot of the function $\\Psi$ defined above, in Paper_Scalar2020 this function is labelled $\\Xi$.\n",
    "    INPUTS:\n",
    "        lastBand: int; index of the band, at the beginning of which the plot range ends\n",
    "        bandPts: int; number of discrete points to divide the interval [(n-1)pi, n*pi] into for plotting each band\n",
    "        alpha: float; value alpha in (*) and (**)\n",
    "        firstBand: int (default 1); index of the band at which the plot begins\n",
    "    OUTPUTS:\n",
    "        fig, ax: matplotlib handles; the matplotlib figure produced\n",
    "    '''\n",
    "    \n",
    "    xRange = np.linspace(0, (lastBand-1)*np.pi, (lastBand-firstBand)*bandPts, endpoint=False)\n",
    "    psiVals = Psi(xRange, alpha)\n",
    "    spec = np.zeros_like(xRange, dtype=int)\n",
    "    spec[IsBetween(psiVals, -1., 1.)] = 1\n",
    "    \n",
    "    fig, ax = plt.subplots()\n",
    "    ax.plot(xRange/np.pi, psiVals, 'blue')\n",
    "    ax.plot(xRange/np.pi, np.ones_like(psiVals), 'black')\n",
    "    ax.plot(xRange/np.pi, -np.ones_like(psiVals), 'black')\n",
    "    ax.scatter(xRange[IsBetween(psiVals, -1., 1.)]/np.pi, np.zeros_like(xRange[IsBetween(psiVals, -1., 1.)]), \\\n",
    "              s=3., marker='x', c='red')\n",
    "    ax.set_xlabel(r'$\\frac{\\omega}{\\pi}$')\n",
    "    if labels=='Paper':\n",
    "        ax.set_title(r'$\\Xi(\\omega), \\alpha=%.2f $' % (alpha))\n",
    "        ax.set_ylabel(r'$\\Xi(\\omega)$')\n",
    "    else:\n",
    "        ax.set_title(r'$\\Psi(\\omega), \\alpha=%.2f $' % (alpha))\n",
    "        ax.set_ylabel(r'$\\Psi(\\omega)$')  \n",
    "    \n",
    "    return fig, ax"
   ]
  },
  {
   "cell_type": "markdown",
   "metadata": {},
   "source": [
    "### Script to Generate Figures for Paper\n",
    "\n",
    "The cell below generates the figures which are to be used in the file `Paper_Scalar2020.tex`.\n",
    "These are saved to the subfolder `./images` of the directory this notebook is saved in - they will need to be manually moved to the `Diagrams/Numerical_Results` folder before they can be accessed by the `.tex` files.\n",
    "\n",
    "At present, we create plots of:\n",
    "- The function $\\Psi$ (or $\\Xi$ in the paper notation) for $\\alpha=-1$ and $\\alpha=-4$, up to the beginning of band 6\n",
    "- The IDoS, DoS, and spectrum for $\\alpha=-1$ and $\\alpha=-4$, up to the beginning of band 4"
   ]
  },
  {
   "cell_type": "code",
   "execution_count": 11,
   "metadata": {},
   "outputs": [
    {
     "name": "stdout",
     "output_type": "stream",
     "text": [
      "Creating plots of Psi(x):\n",
      "    Creating plot for alpha=-1.00\n"
     ]
    },
    {
     "name": "stderr",
     "output_type": "stream",
     "text": [
      "/home/will/anaconda3/envs/PythonBasics/lib/python3.7/site-packages/ipykernel_launcher.py:10: UserWarning: Matplotlib is currently using module://ipykernel.pylab.backend_inline, which is a non-GUI backend, so cannot show the figure.\n",
      "  # Remove the CWD from sys.path while we load stuff.\n"
     ]
    },
    {
     "name": "stdout",
     "output_type": "stream",
     "text": [
      "    Creating plot for alpha=-4.00\n"
     ]
    },
    {
     "data": {
      "image/png": "[encoded data removed]",
      "text/plain": [
       "<Figure size 432x288 with 1 Axes>"
      ]
     },
     "metadata": {
      "needs_background": "light"
     },
     "output_type": "display_data"
    },
    {
     "data": {
      "image/png": "[encoded data removed]",
      "text/plain": [
       "<Figure size 432x288 with 1 Axes>"
      ]
     },
     "metadata": {
      "needs_background": "light"
     },
     "output_type": "display_data"
    }
   ],
   "source": [
    "print('Creating plots of Psi(x):')\n",
    "firstBand = 1\n",
    "lastBand = 7\n",
    "bandPts = 1000\n",
    "for alpha in [-1.0, -4.0]:\n",
    "    print('    Creating plot for alpha=%.2f' % (alpha))\n",
    "    fig, ax = DispRelPlot(lastBand, bandPts, alpha, firstBand=1, labels='Paper')\n",
    "    saveStr = './images/CrossInPlane_ScalarDR_alpha' + '{0:.2f}'.format(alpha) + '.pdf'\n",
    "    fig.savefig(saveStr, bbox_inches='tight')\n",
    "    fig.show()"
   ]
  },
  {
   "cell_type": "code",
   "execution_count": 12,
   "metadata": {
    "scrolled": false
   },
   "outputs": [
    {
     "name": "stdout",
     "output_type": "stream",
     "text": [
      "Creating plots of IDoS and DoS:\n",
      "    Creating plot for alpha=-1.00\n",
      "Working on band 1: completed in 11.374402523040771 seconds\n",
      "Working on band 2: completed in 11.325409173965454 seconds\n",
      "Working on band 3: completed in 11.29618501663208 seconds\n",
      "Working on band 4: completed in 11.349376440048218 seconds\n",
      "Creating plot: completed in 0.03585982322692871 seconds\n"
     ]
    },
    {
     "name": "stderr",
     "output_type": "stream",
     "text": [
      "/home/will/anaconda3/envs/PythonBasics/lib/python3.7/site-packages/ipykernel_launcher.py:10: UserWarning: Matplotlib is currently using module://ipykernel.pylab.backend_inline, which is a non-GUI backend, so cannot show the figure.\n",
      "  # Remove the CWD from sys.path while we load stuff.\n"
     ]
    },
    {
     "name": "stdout",
     "output_type": "stream",
     "text": [
      "    Creating plot for alpha=-4.00\n",
      "Working on band 1: completed in 11.4890296459198 seconds\n",
      "Working on band 2: completed in 11.874036073684692 seconds\n",
      "Working on band 3: completed in 11.446698665618896 seconds\n",
      "Working on band 4: completed in 11.41841745376587 seconds\n",
      "Creating plot: completed in 0.038842201232910156 seconds\n"
     ]
    },
    {
     "data": {
      "image/png": "[encoded data removed]",
      "text/plain": [
       "<Figure size 432x288 with 3 Axes>"
      ]
     },
     "metadata": {
      "needs_background": "light"
     },
     "output_type": "display_data"
    },
    {
     "data": {
      "image/png": "[encoded data removed]",
      "text/plain": [
       "<Figure size 432x288 with 3 Axes>"
      ]
     },
     "metadata": {
      "needs_background": "light"
     },
     "output_type": "display_data"
    }
   ],
   "source": [
    "print('Creating plots of IDoS and DoS:')\n",
    "firstBand = 1\n",
    "lastBand = 5\n",
    "bandPts = 1000\n",
    "for alpha in [-1.0, -4.0]:\n",
    "    print('    Creating plot for alpha=%.2f' % (alpha))\n",
    "    fig, ax = CreatePlots(lastBand, bandPts, alpha, firstBand=1, labels='Paper')\n",
    "    saveStr = './images/CrossInPlane_ScalarDoS_alpha' + '{0:.2f}'.format(alpha) + '.pdf'\n",
    "    fig.savefig(saveStr, bbox_inches='tight')\n",
    "    fig.show()"
   ]
  }
 ],
 "metadata": {
  "kernelspec": {
   "display_name": "Python 3",
   "language": "python",
   "name": "python3"
  },
  "language_info": {
   "codemirror_mode": {
    "name": "ipython",
    "version": 3
   },
   "file_extension": ".py",
   "mimetype": "text/x-python",
   "name": "python",
   "nbconvert_exporter": "python",
   "pygments_lexer": "ipython3",
   "version": "3.7.8"
  }
 },
 "nbformat": 4,
 "nbformat_minor": 4
}
